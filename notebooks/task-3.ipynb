{
 "cells": [
  {
   "cell_type": "markdown",
   "metadata": {},
   "source": [
    "# Date Alignment"
   ]
  },
  {
   "cell_type": "code",
   "execution_count": 1,
   "metadata": {},
   "outputs": [
    {
     "name": "stdout",
     "output_type": "stream",
     "text": [
      "Directory contents: ['AAPL_historical_data.csv', 'AMZN_historical_data.csv', 'GOOG_historical_data.csv', 'META_historical_data.csv', 'MSFT_historical_data.csv', 'NVDA_historical_data.csv', 'TSLA_historical_data.csv']\n",
      "CSV files found: ['../data/yfinance_data/yfinance_data\\\\AAPL_historical_data.csv', '../data/yfinance_data/yfinance_data\\\\AMZN_historical_data.csv', '../data/yfinance_data/yfinance_data\\\\GOOG_historical_data.csv', '../data/yfinance_data/yfinance_data\\\\META_historical_data.csv', '../data/yfinance_data/yfinance_data\\\\MSFT_historical_data.csv', '../data/yfinance_data/yfinance_data\\\\NVDA_historical_data.csv', '../data/yfinance_data/yfinance_data\\\\TSLA_historical_data.csv']\n",
      "         Date      Open      High       Low     Close  Adj Close     Volume  \\\n",
      "0  1980-12-12  0.128348  0.128906  0.128348  0.128348   0.098943  469033600   \n",
      "1  1980-12-15  0.122210  0.122210  0.121652  0.121652   0.093781  175884800   \n",
      "2  1980-12-16  0.113281  0.113281  0.112723  0.112723   0.086898  105728000   \n",
      "3  1980-12-17  0.115513  0.116071  0.115513  0.115513   0.089049   86441600   \n",
      "4  1980-12-18  0.118862  0.119420  0.118862  0.118862   0.091630   73449600   \n",
      "\n",
      "   Dividends  Stock Splits  \n",
      "0        0.0           0.0  \n",
      "1        0.0           0.0  \n",
      "2        0.0           0.0  \n",
      "3        0.0           0.0  \n",
      "4        0.0           0.0  \n"
     ]
    }
   ],
   "source": [
    "import glob\n",
    "import os\n",
    "import pandas as pd\n",
    "\n",
    "# Path to CSV files\n",
    "csv_directory = '../data/yfinance_data/yfinance_data/'\n",
    "\n",
    "# Verify the directory and files\n",
    "print(\"Directory contents:\", os.listdir(csv_directory))\n",
    "csv_files = glob.glob(os.path.join(csv_directory, '*.csv'))\n",
    "print(\"CSV files found:\", csv_files)\n",
    "\n",
    "# Load and concatenate all CSV files into one DataFrame\n",
    "data_frames = [pd.read_csv(file) for file in csv_files]\n",
    "if not data_frames:\n",
    "    raise ValueError(\"No data frames to concatenate.\")\n",
    "\n",
    "combined_df = pd.concat(data_frames, ignore_index=True)\n",
    "\n",
    "# Display the first few rows of the combined DataFrame\n",
    "print(combined_df.head())"
   ]
  },
  {
   "cell_type": "code",
   "execution_count": 2,
   "metadata": {},
   "outputs": [
    {
     "name": "stdout",
     "output_type": "stream",
     "text": [
      "Columns in combined_df: Index(['Date', 'Open', 'High', 'Low', 'Close', 'Adj Close', 'Volume',\n",
      "       'Dividends', 'Stock Splits'],\n",
      "      dtype='object')\n",
      "                Open      High       Low     Close  Adj Close     Volume  \\\n",
      "Date                                                                       \n",
      "1980-12-12  0.128348  0.128906  0.128348  0.128348   0.098943  469033600   \n",
      "1980-12-15  0.122210  0.122210  0.121652  0.121652   0.093781  175884800   \n",
      "1980-12-16  0.113281  0.113281  0.112723  0.112723   0.086898  105728000   \n",
      "1980-12-17  0.115513  0.116071  0.115513  0.115513   0.089049   86441600   \n",
      "1980-12-18  0.118862  0.119420  0.118862  0.118862   0.091630   73449600   \n",
      "\n",
      "            Dividends  Stock Splits  \n",
      "Date                                 \n",
      "1980-12-12        0.0           0.0  \n",
      "1980-12-15        0.0           0.0  \n",
      "1980-12-16        0.0           0.0  \n",
      "1980-12-17        0.0           0.0  \n",
      "1980-12-18        0.0           0.0  \n"
     ]
    }
   ],
   "source": [
    "# Load and concatenate all CSV files into one DataFrame\n",
    "data_frames = [pd.read_csv(file) for file in csv_files]\n",
    "if not data_frames:\n",
    "    raise ValueError(\"No data frames to concatenate.\")\n",
    "\n",
    "combined_df = pd.concat(data_frames, ignore_index=True)\n",
    "\n",
    "# Display the column names \n",
    "print(\"Columns in combined_df:\", combined_df.columns)\n",
    "\n",
    "# Convert 'Date' column to datetime format\n",
    "if 'Date' in combined_df.columns:\n",
    "    combined_df['Date'] = pd.to_datetime(combined_df['Date'], errors='coerce')  # Use errors='coerce' to handle any invalid date formats\n",
    "    combined_df.set_index('Date', inplace=True)\n",
    "else:\n",
    "    print(\"Column 'Date' not found in the DataFrame.\")\n",
    "\n",
    "# Display the DataFrame structure to confirm it is ready for TA-Lib\n",
    "print(combined_df.head())"
   ]
  },
  {
   "cell_type": "code",
   "execution_count": 3,
   "metadata": {},
   "outputs": [
    {
     "name": "stdout",
     "output_type": "stream",
     "text": [
      "            Unnamed: 0                                           headline  \\\n",
      "date                                                                        \n",
      "2020-06-05           0            Stocks That Hit 52-Week Highs On Friday   \n",
      "2020-06-03           1         Stocks That Hit 52-Week Highs On Wednesday   \n",
      "2020-05-26           2                      71 Biggest Movers From Friday   \n",
      "2020-05-22           3       46 Stocks Moving In Friday's Mid-Day Session   \n",
      "2020-05-22           4  B of A Securities Maintains Neutral on Agilent...   \n",
      "\n",
      "                                                          url  \\\n",
      "date                                                            \n",
      "2020-06-05  https://www.benzinga.com/news/20/06/16190091/s...   \n",
      "2020-06-03  https://www.benzinga.com/news/20/06/16170189/s...   \n",
      "2020-05-26  https://www.benzinga.com/news/20/05/16103463/7...   \n",
      "2020-05-22  https://www.benzinga.com/news/20/05/16095921/4...   \n",
      "2020-05-22  https://www.benzinga.com/news/20/05/16095304/b...   \n",
      "\n",
      "                    publisher stock  \n",
      "date                                 \n",
      "2020-06-05  Benzinga Insights     A  \n",
      "2020-06-03  Benzinga Insights     A  \n",
      "2020-05-26         Lisa Levin     A  \n",
      "2020-05-22         Lisa Levin     A  \n",
      "2020-05-22         Vick Meyer     A  \n"
     ]
    }
   ],
   "source": [
    "import pandas as pd\n",
    "import numpy as np\n",
    "# import plotly.express as px\n",
    "from IPython.display import display\n",
    "from task.dataset_loader import load_raw_dataset\n",
    "# import yfinance as yf\n",
    "from datetime import datetime\n",
    "from textblob import TextBlob\n",
    "\n",
    "\n",
    "data = pd.read_csv(\"../data/raw_analyst_ratings.csv\")\n",
    "# Convert 'date' column to datetime format in the news data\n",
    "data['date'] = pd.to_datetime(data['date'])\n",
    "\n",
    "# Set 'date' as the index for the news DataFrame\n",
    "data.set_index('date', inplace=True)\n",
    "\n",
    "# Display the first few rows to verify\n",
    "print(data.head())"
   ]
  },
  {
   "cell_type": "code",
   "execution_count": 4,
   "metadata": {},
   "outputs": [
    {
     "name": "stdout",
     "output_type": "stream",
     "text": [
      "Duplicate dates found:\n",
      "DatetimeIndex(['2020-05-22', '2020-05-22', '2020-05-22', '2020-05-22',\n",
      "               '2020-05-22', '2020-05-22', '2020-05-22', '2020-05-22',\n",
      "               '2020-05-21', '2020-05-21',\n",
      "               ...\n",
      "               '2013-07-29', '2013-07-26', '2013-07-25', '2013-07-15',\n",
      "               '2013-06-18', '2013-06-14', '2013-06-04', '2013-06-04',\n",
      "               '2013-05-02', '2013-03-22'],\n",
      "              dtype='datetime64[ns]', name='date', length=1044634, freq=None)\n"
     ]
    }
   ],
   "source": [
    "# Check for duplicate dates in the news DataFrame\n",
    "duplicates = data.index.duplicated()\n",
    "if duplicates.any():\n",
    "    print(\"Duplicate dates found:\")\n",
    "    print(data.index[duplicates])"
   ]
  },
  {
   "cell_type": "code",
   "execution_count": 5,
   "metadata": {},
   "outputs": [],
   "source": [
    "# Drop duplicate dates, keeping the first occurrence\n",
    "data = data[~data.index.duplicated(keep='first')]"
   ]
  },
  {
   "cell_type": "code",
   "execution_count": 6,
   "metadata": {},
   "outputs": [
    {
     "name": "stdout",
     "output_type": "stream",
     "text": [
      "Index is monotonic increasing: False\n",
      "Index is monotonic decreasing: False\n"
     ]
    }
   ],
   "source": [
    "# Check if the index is monotonic increasing\n",
    "is_monotonic = data.index.is_monotonic_increasing\n",
    "print(f\"Index is monotonic increasing: {is_monotonic}\")\n",
    "\n",
    "# Check if the index is monotonic decreasing\n",
    "is_monotonic = data.index.is_monotonic_decreasing\n",
    "print(f\"Index is monotonic decreasing: {is_monotonic}\")"
   ]
  },
  {
   "cell_type": "code",
   "execution_count": 7,
   "metadata": {},
   "outputs": [
    {
     "name": "stdout",
     "output_type": "stream",
     "text": [
      "True\n"
     ]
    }
   ],
   "source": [
    "# Sort the index of the news DataFrame\n",
    "data = data.sort_index()\n",
    "\n",
    "# Verify the index is now sorted\n",
    "print(data.index.is_monotonic_increasing)"
   ]
  },
  {
   "cell_type": "code",
   "execution_count": 8,
   "metadata": {},
   "outputs": [
    {
     "name": "stdout",
     "output_type": "stream",
     "text": [
      "                Open      High       Low     Close  Adj Close     Volume  \\\n",
      "Date                                                                       \n",
      "1980-12-12  0.128348  0.128906  0.128348  0.128348   0.098943  469033600   \n",
      "1980-12-15  0.122210  0.122210  0.121652  0.121652   0.093781  175884800   \n",
      "1980-12-16  0.113281  0.113281  0.112723  0.112723   0.086898  105728000   \n",
      "1980-12-17  0.115513  0.116071  0.115513  0.115513   0.089049   86441600   \n",
      "1980-12-18  0.118862  0.119420  0.118862  0.118862   0.091630   73449600   \n",
      "\n",
      "            Dividends  Stock Splits  Unnamed: 0                      headline  \\\n",
      "Date                                                                            \n",
      "1980-12-12        0.0           0.0      883755  How Treasuries and ETFs Work   \n",
      "1980-12-15        0.0           0.0      883755  How Treasuries and ETFs Work   \n",
      "1980-12-16        0.0           0.0      883755  How Treasuries and ETFs Work   \n",
      "1980-12-17        0.0           0.0      883755  How Treasuries and ETFs Work   \n",
      "1980-12-18        0.0           0.0      883755  How Treasuries and ETFs Work   \n",
      "\n",
      "                                                          url     publisher  \\\n",
      "Date                                                                          \n",
      "1980-12-12  https://www.benzinga.com/28044/how-treasuries-...  Paco Ahlgren   \n",
      "1980-12-15  https://www.benzinga.com/28044/how-treasuries-...  Paco Ahlgren   \n",
      "1980-12-16  https://www.benzinga.com/28044/how-treasuries-...  Paco Ahlgren   \n",
      "1980-12-17  https://www.benzinga.com/28044/how-treasuries-...  Paco Ahlgren   \n",
      "1980-12-18  https://www.benzinga.com/28044/how-treasuries-...  Paco Ahlgren   \n",
      "\n",
      "           stock  \n",
      "Date              \n",
      "1980-12-12   NAV  \n",
      "1980-12-15   NAV  \n",
      "1980-12-16   NAV  \n",
      "1980-12-17   NAV  \n",
      "1980-12-18   NAV  \n"
     ]
    },
    {
     "name": "stderr",
     "output_type": "stream",
     "text": [
      "C:\\Users\\eldiy\\AppData\\Local\\Temp\\ipykernel_13200\\2324240017.py:5: FutureWarning: DataFrame.fillna with 'method' is deprecated and will raise in a future version. Use obj.ffill() or obj.bfill() instead.\n",
      "  data.fillna(method='ffill', inplace=True)\n"
     ]
    }
   ],
   "source": [
    "# Reindex news data to match the dates in the stock data (combined_df)\n",
    "data = data.reindex(combined_df.index, method='nearest')\n",
    "\n",
    "# Forward fill or backward fill any missing dates in the news data\n",
    "data.fillna(method='ffill', inplace=True)\n",
    "# Join the stock data (combined_df) with the news data on the Date index\n",
    "merged_df = combined_df.join(data, how='inner')\n",
    "\n",
    "# Display the first few rows of the merged DataFrame\n",
    "print(merged_df.head())"
   ]
  },
  {
   "cell_type": "code",
   "execution_count": 21,
   "metadata": {},
   "outputs": [
    {
     "name": "stdout",
     "output_type": "stream",
     "text": [
      "<class 'pandas.core.frame.DataFrame'>\n",
      "RangeIndex: 1048575 entries, 0 to 1048574\n",
      "Data columns (total 6 columns):\n",
      " #   Column      Non-Null Count    Dtype \n",
      "---  ------      --------------    ----- \n",
      " 0   Unnamed: 0  1048575 non-null  int64 \n",
      " 1   headline    1048575 non-null  object\n",
      " 2   url         1048575 non-null  object\n",
      " 3   publisher   1048575 non-null  object\n",
      " 4   date        1048575 non-null  object\n",
      " 5   stock       1048575 non-null  object\n",
      "dtypes: int64(1), object(5)\n",
      "memory usage: 48.0+ MB\n"
     ]
    }
   ],
   "source": [
    "data.info()"
   ]
  },
  {
   "cell_type": "code",
   "execution_count": 13,
   "metadata": {},
   "outputs": [
    {
     "name": "stdout",
     "output_type": "stream",
     "text": [
      "<class 'pandas.core.frame.DataFrame'>\n",
      "DatetimeIndex: 241404 entries, 1980-12-12 to 2024-07-30\n",
      "Data columns (total 14 columns):\n",
      " #   Column           Non-Null Count   Dtype  \n",
      "---  ------           --------------   -----  \n",
      " 0   Open             241404 non-null  float64\n",
      " 1   High             241404 non-null  float64\n",
      " 2   Low              241404 non-null  float64\n",
      " 3   Close            241404 non-null  float64\n",
      " 4   Adj Close        241404 non-null  float64\n",
      " 5   Volume           241404 non-null  int64  \n",
      " 6   Dividends        241404 non-null  float64\n",
      " 7   Stock Splits     241404 non-null  float64\n",
      " 8   Unnamed: 0       241404 non-null  int64  \n",
      " 9   headline         241404 non-null  object \n",
      " 10  url              241404 non-null  object \n",
      " 11  publisher        241404 non-null  object \n",
      " 12  stock            241404 non-null  object \n",
      " 13  Sentiment_Score  241404 non-null  float64\n",
      "dtypes: float64(8), int64(2), object(4)\n",
      "memory usage: 27.6+ MB\n"
     ]
    }
   ],
   "source": [
    "merged_df.info()"
   ]
  },
  {
   "cell_type": "markdown",
   "metadata": {},
   "source": [
    "# Sentiment Analysis"
   ]
  },
  {
   "cell_type": "code",
   "execution_count": 9,
   "metadata": {},
   "outputs": [
    {
     "name": "stdout",
     "output_type": "stream",
     "text": [
      "                                headline  Sentiment_Score\n",
      "Date                                                     \n",
      "1980-12-12  How Treasuries and ETFs Work              0.0\n",
      "1980-12-15  How Treasuries and ETFs Work              0.0\n",
      "1980-12-16  How Treasuries and ETFs Work              0.0\n",
      "1980-12-17  How Treasuries and ETFs Work              0.0\n",
      "1980-12-18  How Treasuries and ETFs Work              0.0\n"
     ]
    }
   ],
   "source": [
    "# Perform sentiment analysis\n",
    "def get_sentiment_score(text):\n",
    "    return TextBlob(text).sentiment.polarity\n",
    "\n",
    "# Apply sentiment analysis to the headlines\n",
    "merged_df['Sentiment_Score'] = merged_df['headline'].apply(get_sentiment_score)\n",
    "\n",
    "# Verify that the new column is added\n",
    "print(merged_df[['headline', 'Sentiment_Score']].head())"
   ]
  },
  {
   "cell_type": "code",
   "execution_count": 23,
   "metadata": {},
   "outputs": [
    {
     "name": "stderr",
     "output_type": "stream",
     "text": [
      "C:\\Users\\eldiy\\AppData\\Local\\Temp\\ipykernel_13200\\4086227031.py:9: FutureWarning: \n",
      "\n",
      "Passing `palette` without assigning `hue` is deprecated and will be removed in v0.14.0. Assign the `x` variable to `hue` and set `legend=False` for the same effect.\n",
      "\n",
      "  sns.barplot(x=sentiment_counts.index, y=sentiment_counts.values, palette='viridis')\n"
     ]
    },
    {
     "data": {
      "image/png": "[encoded data removed]",
      "text/plain": [
       "<Figure size 1000x600 with 1 Axes>"
      ]
     },
     "metadata": {},
     "output_type": "display_data"
    }
   ],
   "source": [
    "import matplotlib.pyplot as plt\n",
    "import seaborn as sns\n",
    "# Count the occurrences of each sentiment\n",
    "sentiment_counts = merged_df['Sentiment_Score'].value_counts()\n",
    "\n",
    "# Create a bar plot\n",
    "plt.figure(figsize=(10, 6))\n",
    "sns.barplot(x=sentiment_counts.index, y=sentiment_counts.values, palette='viridis')\n",
    "\n",
    "# Add titles and labels\n",
    "plt.title('Sentiment Analysis Counts')\n",
    "plt.xlabel('Sentiment_Score')\n",
    "plt.ylabel('Count')\n",
    "\n",
    "# Display the plot\n",
    "plt.show()"
   ]
  },
  {
   "cell_type": "markdown",
   "metadata": {},
   "source": [
    "# Calculate Daily Stock Returns"
   ]
  },
  {
   "cell_type": "code",
   "execution_count": null,
   "metadata": {},
   "outputs": [
    {
     "name": "stdout",
     "output_type": "stream",
     "text": [
      "               Close  Daily_Return\n",
      "Date                              \n",
      "1980-12-12  0.128348           NaN\n",
      "1980-12-15  0.121652     -0.052171\n",
      "1980-12-16  0.112723     -0.073398\n",
      "1980-12-17  0.115513      0.024751\n",
      "1980-12-18  0.118862      0.028992\n"
     ]
    }
   ],
   "source": [
    "# Calculate daily stock returns\n",
    "merged_df['Daily_Return'] = merged_df['Close'].pct_change()\n",
    "\n",
    "# Display the first few rows to check the daily return column\n",
    "print(merged_df[['Close', 'Daily_Return']].head())"
   ]
  },
  {
   "cell_type": "markdown",
   "metadata": {},
   "source": [
    "# Correlation Analysis"
   ]
  },
  {
   "cell_type": "code",
   "execution_count": null,
   "metadata": {},
   "outputs": [
    {
     "name": "stdout",
     "output_type": "stream",
     "text": [
      "Correlation between sentiment scores and daily stock returns: 0.0012717938119758802\n"
     ]
    }
   ],
   "source": [
    "# Correlate sentiment scores with daily stock returns\n",
    "correlation = merged_df['Sentiment_Score'].corr(merged_df['Daily_Return'])\n",
    "\n",
    "print(f\"Correlation between sentiment scores and daily stock returns: {correlation}\")"
   ]
  }
 ],
 "metadata": {
  "kernelspec": {
   "display_name": "Python 3",
   "language": "python",
   "name": "python3"
  },
  "language_info": {
   "codemirror_mode": {
    "name": "ipython",
    "version": 3
   },
   "file_extension": ".py",
   "mimetype": "text/x-python",
   "name": "python",
   "nbconvert_exporter": "python",
   "pygments_lexer": "ipython3",
   "version": "3.11.7"
  }
 },
 "nbformat": 4,
 "nbformat_minor": 2
}
